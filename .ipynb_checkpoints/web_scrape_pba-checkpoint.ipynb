{
 "cells": [
  {
   "cell_type": "code",
   "execution_count": 1,
   "metadata": {
    "ExecuteTime": {
     "end_time": "2020-08-15T14:20:12.405971Z",
     "start_time": "2020-08-15T14:20:11.844459Z"
    }
   },
   "outputs": [],
   "source": [
    "import pandas as pd\n",
    "import numpy as np\n",
    "import requests\n",
    "import time\n",
    "import re\n",
    "import os"
   ]
  },
  {
   "cell_type": "markdown",
   "metadata": {},
   "source": [
    "# Web Scraping"
   ]
  },
  {
   "cell_type": "markdown",
   "metadata": {},
   "source": [
    "## Base"
   ]
  },
  {
   "cell_type": "code",
   "execution_count": 2,
   "metadata": {
    "ExecuteTime": {
     "end_time": "2020-08-15T14:20:13.067576Z",
     "start_time": "2020-08-15T14:20:12.406972Z"
    }
   },
   "outputs": [],
   "source": [
    "r = requests.get('https://www.pba.ph/stats',\n",
    "                 params={\n",
    "                     'conf': 25805,\n",
    "                     'type': 'AVG'\n",
    "                 })\n",
    "options = re.findall('value=\"(.+)\"\\>(.+)\\</option',r.text)\n",
    "conferences = [x for x in options if 'Cup' in x[1]]\n",
    "teams = [x for x in options if x not in conferences]\n",
    "stat_types = ['TOT','AVG']"
   ]
  },
  {
   "cell_type": "code",
   "execution_count": 3,
   "metadata": {
    "ExecuteTime": {
     "end_time": "2020-08-15T14:20:13.073580Z",
     "start_time": "2020-08-15T14:20:13.069575Z"
    },
    "scrolled": true
   },
   "outputs": [],
   "source": [
    "conf_teams = [x[:3].upper() for x in re.findall('logo/(.+).png',r.text)]"
   ]
  },
  {
   "cell_type": "code",
   "execution_count": 11,
   "metadata": {
    "ExecuteTime": {
     "end_time": "2020-08-15T14:21:58.627706Z",
     "start_time": "2020-08-15T14:21:58.619698Z"
    }
   },
   "outputs": [],
   "source": [
    "def conf_namer(conf):\n",
    "    year = conf[:4]\n",
    "    if 'Governor' in conf:\n",
    "        con = 'GOV'\n",
    "    elif 'Philippine' in conf:\n",
    "        con = 'PH'\n",
    "    else:\n",
    "        con = 'COM'\n",
    "    return year+'_'+con\n",
    "\n",
    "def create_teams_csv():\n",
    "    \"\"\"Creates csv files for every season for every team. returns the list of filenames created\"\"\"\n",
    "    path = \"data\\\\pba_team_csv\\\\\"\n",
    "    print('Path',path)\n",
    "    try:\n",
    "        os.mkdir(path)\n",
    "    except OSError:\n",
    "        os.mkdir(path)\n",
    "    else:\n",
    "        pass\n",
    "    titles = []\n",
    "    for conf in conferences:\n",
    "        for team in teams[1:]:\n",
    "            for stat_type in stat_types:\n",
    "                req = requests.get('https://www.pba.ph/stats',\n",
    "                                   params={\n",
    "                                       'conf': conf[0],\n",
    "                                       'team': team[0],\n",
    "                                       'stat': 'sPointsAverage',\n",
    "                                       'type': stat_type,\n",
    "                                       'sort': 'DESC'\n",
    "                                   })\n",
    "\n",
    "                df = pd.read_html(req.text)[0].drop_duplicates()\n",
    "                df.drop('Unnamed: 1',axis=1,inplace=True)\n",
    "                df['Team'] = team[0]\n",
    "                title = '_'.join([conf_namer(conf[1]),\n",
    "                                  team[0],\n",
    "                                  stat_type]).replace(' ', '_')\n",
    "                title = title + '.csv'\n",
    "                df.to_csv(path + title, index=False)\n",
    "                print(title,'done')\n",
    "                titles.append(title)\n",
    "#                 time.sleep(1)\n",
    "    return titles"
   ]
  },
  {
   "cell_type": "code",
   "execution_count": null,
   "metadata": {
    "ExecuteTime": {
     "start_time": "2020-08-15T14:21:59.295Z"
    },
    "scrolled": true
   },
   "outputs": [
    {
     "name": "stdout",
     "output_type": "stream",
     "text": [
      "Path data\\pba_team_csv\\\n"
     ]
    }
   ],
   "source": [
    "create_teams_csv()"
   ]
  },
  {
   "cell_type": "markdown",
   "metadata": {},
   "source": [
    "## Season"
   ]
  },
  {
   "cell_type": "code",
   "execution_count": null,
   "metadata": {
    "ExecuteTime": {
     "end_time": "2020-08-15T14:20:13.979405Z",
     "start_time": "2020-08-15T14:20:12.025Z"
    },
    "code_folding": []
   },
   "outputs": [],
   "source": [
    " def get_season_csv():   \n",
    "    columns = ['Team',\n",
    "              'W-L',\n",
    "              'GP',\n",
    "              '3Pm',\n",
    "              '3Pa',\n",
    "              '3P%',\n",
    "              '2Pm',\n",
    "              '2Pa',\n",
    "              '2P%',\n",
    "              'FGm',\n",
    "              'FGa',\n",
    "              'FG%',\n",
    "              'FTm',\n",
    "              'FTa',\n",
    "              'FT%',\n",
    "              'dREB',\n",
    "              'oREB',\n",
    "              'REB',\n",
    "              'drop',\n",
    "              'AST',\n",
    "              'STL',\n",
    "              'BLK',\n",
    "              'TO',\n",
    "              'PTO',\n",
    "              'PF',\n",
    "              'FBm',\n",
    "              'FBa',\n",
    "              'FBm%',\n",
    "              'bPTS',\n",
    "              'PTS']\n",
    "\n",
    "    path = \"data\\\\pba_season_csv\\\\\"\n",
    "    print('Path:',path)\n",
    "    try:\n",
    "        os.mkdir(path)\n",
    "    except OSError:\n",
    "        pass\n",
    "    else:\n",
    "        pass\n",
    "    titles = []\n",
    "    \n",
    "    for conf in conferences:\n",
    "        for stat_type in stat_types:\n",
    "            reqs = requests.get('https://www.pba.ph/teamstats',\n",
    "                                params={\n",
    "                                    'conf': conf[0],\n",
    "                                    'type': stat_type\n",
    "                                })\n",
    "            conf_teams = [x[:3].upper() for x in \n",
    "                          re.findall('logo/(.+).png',reqs.text)]\n",
    "            \n",
    "            df = pd.read_html(reqs.text)[0].iloc[3:,:].reset_index(drop=True)\n",
    "            df.columns = columns\n",
    "            df.Team = conf_teams[:len(df.Team)]\n",
    "            \n",
    "            df['W'] = df['W-L'].apply(lambda x: re.findall('(.+)-',x)[0])\n",
    "            df['L'] = df['W-L'].apply(lambda x: re.findall('-(.+)',x)[0])\n",
    "            df.drop(['drop','W-L'],axis=1,inplace = True)\n",
    "\n",
    "            title = '_'.join([conf_namer(conf[1]),\n",
    "                              stat_type]).replace(' ', '_')\n",
    "            title = title + '.csv'\n",
    "            df.to_csv(path + title, index=False)\n",
    "            \n",
    "            titles.append(title)\n",
    "            print(title,'done')\n",
    "            \n",
    "    return titles"
   ]
  },
  {
   "cell_type": "code",
   "execution_count": null,
   "metadata": {
    "ExecuteTime": {
     "end_time": "2020-08-15T14:20:13.980406Z",
     "start_time": "2020-08-15T14:20:12.027Z"
    }
   },
   "outputs": [],
   "source": [
    "get_season_csv()"
   ]
  },
  {
   "cell_type": "markdown",
   "metadata": {},
   "source": [
    "## Conference"
   ]
  },
  {
   "cell_type": "code",
   "execution_count": null,
   "metadata": {
    "ExecuteTime": {
     "end_time": "2020-08-15T14:20:13.980406Z",
     "start_time": "2020-08-15T14:20:12.085Z"
    }
   },
   "outputs": [],
   "source": [
    "def get_all_players_conference():\n",
    "    \"\"\"Creates csv files for every season for every team. returns the list of filenames created\"\"\"\n",
    "    path = \"data\\\\pba_all_players_conference_csv\\\\\"\n",
    "    print('Path', path)\n",
    "    try:\n",
    "        os.mkdir(path)\n",
    "    except OSError:\n",
    "        pass\n",
    "    else:\n",
    "        pass\n",
    "    titles = []\n",
    "    for conf in conferences:\n",
    "        for stat_type in stat_types:\n",
    "            req = requests.get('https://www.pba.ph/stats',\n",
    "                               params={\n",
    "                                   'conf': conf[0],\n",
    "                                   'team': 'all',\n",
    "                                   'stat': 'sPointsAverage',\n",
    "                                   'type': stat_type,\n",
    "                                   'sort': 'DESC'\n",
    "                               })\n",
    "            df = pd.read_html(req.text)[0].drop('Unnamed: 1',axis=1)\n",
    "            teams = [x[:3].upper() for x in re.findall('logo/(.+).png',req.text)]\n",
    "            df['Team'] = teams\n",
    "            title = '_'.join([conf_namer(conf[1]),\n",
    "                              'ALL',\n",
    "                              stat_type]).replace(' ', '_')\n",
    "            title = title + '.csv'\n",
    "            df.drop_duplicates(inplace=True)\n",
    "            df.to_csv(path + title, index=False)\n",
    "            print(title, 'done')\n",
    "            titles.append(title)\n",
    "#             time.sleep(1)\n",
    "    return titles\n"
   ]
  },
  {
   "cell_type": "code",
   "execution_count": null,
   "metadata": {
    "ExecuteTime": {
     "end_time": "2020-08-15T14:20:13.981407Z",
     "start_time": "2020-08-15T14:20:12.088Z"
    }
   },
   "outputs": [],
   "source": [
    "get_all_players_conference()"
   ]
  },
  {
   "cell_type": "markdown",
   "metadata": {},
   "source": [
    "## Player descriptions"
   ]
  },
  {
   "cell_type": "code",
   "execution_count": null,
   "metadata": {
    "ExecuteTime": {
     "end_time": "2020-08-15T14:20:13.982409Z",
     "start_time": "2020-08-15T14:20:12.142Z"
    },
    "code_folding": []
   },
   "outputs": [],
   "source": [
    "def name_gen(x):\n",
    "    string = x.split('-')\n",
    "    last_name = string[-1].capitalize()\n",
    "    f_init = string[0][0].upper()\n",
    "    return f_init + '. ' + last_name\n",
    "\n",
    "def extract(desc,x):\n",
    "    descs = desc.replace(' ','').split('/')\n",
    "    height = descs[1].split(\"'\")\n",
    "    try: \n",
    "        height_in = 12 * int(height[0]) + int(height[1])\n",
    "    except:\n",
    "        height_in = None\n",
    "    \n",
    "    return [descs[0][1:], height_in, '/'.join(descs[2:])][x]\n",
    "#     return(height_in)\n",
    "\n",
    "pdata = ['j_number','height','pos']\n",
    "\n",
    "def player_desc():\n",
    "    reqs = requests.get('https://www.pba.ph/players')\n",
    "    players = re.findall(\"href='players/(.+)'>\",reqs.text)[::2]\n",
    "    descriptions = []\n",
    "    name = []\n",
    "    for player in players:\n",
    "        req_player = requests.get('https://www.pba.ph/players/'+player).text\n",
    "        descriptions.append(re.findall('(#.+/.*/.+)<br',req_player)[0])\n",
    "    df_raw = pd.DataFrame({'Link':players,'Description':descriptions})\n",
    "    df_new = pd.DataFrame()\n",
    "    df_new['Name'] = df_raw['Link'].apply(name_gen)\n",
    "    \n",
    "    pdata = ['j_number','height','pos']\n",
    "    for x in range(3):\n",
    "        df_new[pdata[x]] = df_raw['Description'].apply(lambda y: extract(y,x))\n",
    "    df_new.to_csv('data\\\\player_desc.csv',index=False)\n",
    "    return df_new"
   ]
  },
  {
   "cell_type": "code",
   "execution_count": null,
   "metadata": {
    "ExecuteTime": {
     "end_time": "2020-08-15T14:20:13.983409Z",
     "start_time": "2020-08-15T14:20:12.144Z"
    }
   },
   "outputs": [],
   "source": [
    "player_desc()"
   ]
  }
 ],
 "metadata": {
  "kernelspec": {
   "display_name": "Python 3",
   "language": "python",
   "name": "python3"
  },
  "language_info": {
   "codemirror_mode": {
    "name": "ipython",
    "version": 3
   },
   "file_extension": ".py",
   "mimetype": "text/x-python",
   "name": "python",
   "nbconvert_exporter": "python",
   "pygments_lexer": "ipython3",
   "version": "3.7.6"
  },
  "toc": {
   "base_numbering": 1,
   "nav_menu": {},
   "number_sections": true,
   "sideBar": true,
   "skip_h1_title": false,
   "title_cell": "Table of Contents",
   "title_sidebar": "Contents",
   "toc_cell": false,
   "toc_position": {},
   "toc_section_display": true,
   "toc_window_display": false
  },
  "varInspector": {
   "cols": {
    "lenName": 16,
    "lenType": 16,
    "lenVar": 40
   },
   "kernels_config": {
    "python": {
     "delete_cmd_postfix": "",
     "delete_cmd_prefix": "del ",
     "library": "var_list.py",
     "varRefreshCmd": "print(var_dic_list())"
    },
    "r": {
     "delete_cmd_postfix": ") ",
     "delete_cmd_prefix": "rm(",
     "library": "var_list.r",
     "varRefreshCmd": "cat(var_dic_list()) "
    }
   },
   "types_to_exclude": [
    "module",
    "function",
    "builtin_function_or_method",
    "instance",
    "_Feature"
   ],
   "window_display": false
  }
 },
 "nbformat": 4,
 "nbformat_minor": 4
}
